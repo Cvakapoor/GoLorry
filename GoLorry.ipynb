{
 "cells": [
  {
   "cell_type": "markdown",
   "metadata": {},
   "source": [
    "# Truck Placements Data Challenge"
   ]
  },
  {
   "cell_type": "markdown",
   "metadata": {},
   "source": [
    "#### Importing the necessary libraries"
   ]
  },
  {
   "cell_type": "code",
   "execution_count": 1,
   "metadata": {},
   "outputs": [],
   "source": [
    "import numpy as np\n",
    "import pandas as pd\n",
    "import seaborn as sns\n",
    "import matplotlib.pyplot as plt"
   ]
  },
  {
   "cell_type": "markdown",
   "metadata": {},
   "source": [
    "#### Reading the placement data file"
   ]
  },
  {
   "cell_type": "code",
   "execution_count": 2,
   "metadata": {},
   "outputs": [],
   "source": [
    "placement = pd.read_csv(\"C:\\\\Users\\\\DELL1\\\\Downloads\\\\placement_table.csv\")"
   ]
  },
  {
   "cell_type": "code",
   "execution_count": 3,
   "metadata": {},
   "outputs": [
    {
     "data": {
      "text/html": [
       "<div>\n",
       "<style scoped>\n",
       "    .dataframe tbody tr th:only-of-type {\n",
       "        vertical-align: middle;\n",
       "    }\n",
       "\n",
       "    .dataframe tbody tr th {\n",
       "        vertical-align: top;\n",
       "    }\n",
       "\n",
       "    .dataframe thead th {\n",
       "        text-align: right;\n",
       "    }\n",
       "</style>\n",
       "<table border=\"1\" class=\"dataframe\">\n",
       "  <thead>\n",
       "    <tr style=\"text-align: right;\">\n",
       "      <th></th>\n",
       "      <th>placement_id</th>\n",
       "      <th>placement_ts</th>\n",
       "      <th>truck_plate</th>\n",
       "      <th>truck_capacity</th>\n",
       "      <th>driver_id</th>\n",
       "      <th>driver_phone</th>\n",
       "      <th>goods_weight</th>\n",
       "      <th>shipping_fee</th>\n",
       "    </tr>\n",
       "  </thead>\n",
       "  <tbody>\n",
       "    <tr>\n",
       "      <td>0</td>\n",
       "      <td>0</td>\n",
       "      <td>2018-01-01 17:55:15+05:30</td>\n",
       "      <td>TNE3ZJQPRH</td>\n",
       "      <td>10</td>\n",
       "      <td>257</td>\n",
       "      <td>5701819972</td>\n",
       "      <td>27</td>\n",
       "      <td>40411</td>\n",
       "    </tr>\n",
       "    <tr>\n",
       "      <td>1</td>\n",
       "      <td>1</td>\n",
       "      <td>2018-01-02 02:48:15+05:30</td>\n",
       "      <td>APBOXM6CYR</td>\n",
       "      <td>21</td>\n",
       "      <td>243</td>\n",
       "      <td>8160025431</td>\n",
       "      <td>20</td>\n",
       "      <td>81731</td>\n",
       "    </tr>\n",
       "    <tr>\n",
       "      <td>2</td>\n",
       "      <td>2</td>\n",
       "      <td>2018-01-02 08:07:15+05:30</td>\n",
       "      <td>JHFO87NR8U</td>\n",
       "      <td>21</td>\n",
       "      <td>105</td>\n",
       "      <td>5737886603</td>\n",
       "      <td>17</td>\n",
       "      <td>13562</td>\n",
       "    </tr>\n",
       "    <tr>\n",
       "      <td>3</td>\n",
       "      <td>3</td>\n",
       "      <td>2018-01-02 22:33:15+05:30</td>\n",
       "      <td>TN0MUM266Q</td>\n",
       "      <td>25</td>\n",
       "      <td>208</td>\n",
       "      <td>6527430949</td>\n",
       "      <td>18</td>\n",
       "      <td>90496</td>\n",
       "    </tr>\n",
       "    <tr>\n",
       "      <td>4</td>\n",
       "      <td>4</td>\n",
       "      <td>2018-01-03 07:51:15+05:30</td>\n",
       "      <td>JH92ZSVZ9I</td>\n",
       "      <td>17</td>\n",
       "      <td>25</td>\n",
       "      <td>5182354054</td>\n",
       "      <td>30</td>\n",
       "      <td>74317</td>\n",
       "    </tr>\n",
       "  </tbody>\n",
       "</table>\n",
       "</div>"
      ],
      "text/plain": [
       "   placement_id               placement_ts truck_plate  truck_capacity  \\\n",
       "0             0  2018-01-01 17:55:15+05:30  TNE3ZJQPRH              10   \n",
       "1             1  2018-01-02 02:48:15+05:30  APBOXM6CYR              21   \n",
       "2             2  2018-01-02 08:07:15+05:30  JHFO87NR8U              21   \n",
       "3             3  2018-01-02 22:33:15+05:30  TN0MUM266Q              25   \n",
       "4             4  2018-01-03 07:51:15+05:30  JH92ZSVZ9I              17   \n",
       "\n",
       "   driver_id  driver_phone  goods_weight  shipping_fee  \n",
       "0        257    5701819972            27         40411  \n",
       "1        243    8160025431            20         81731  \n",
       "2        105    5737886603            17         13562  \n",
       "3        208    6527430949            18         90496  \n",
       "4         25    5182354054            30         74317  "
      ]
     },
     "execution_count": 3,
     "metadata": {},
     "output_type": "execute_result"
    }
   ],
   "source": [
    "placement.head()"
   ]
  },
  {
   "cell_type": "markdown",
   "metadata": {},
   "source": [
    "#### Reading the status data file"
   ]
  },
  {
   "cell_type": "code",
   "execution_count": 4,
   "metadata": {},
   "outputs": [],
   "source": [
    "status = pd.read_csv(\"C:\\\\Users\\\\DELL1\\\\Downloads\\\\status_table.csv\")"
   ]
  },
  {
   "cell_type": "code",
   "execution_count": 5,
   "metadata": {},
   "outputs": [
    {
     "data": {
      "text/html": [
       "<div>\n",
       "<style scoped>\n",
       "    .dataframe tbody tr th:only-of-type {\n",
       "        vertical-align: middle;\n",
       "    }\n",
       "\n",
       "    .dataframe tbody tr th {\n",
       "        vertical-align: top;\n",
       "    }\n",
       "\n",
       "    .dataframe thead th {\n",
       "        text-align: right;\n",
       "    }\n",
       "</style>\n",
       "<table border=\"1\" class=\"dataframe\">\n",
       "  <thead>\n",
       "    <tr style=\"text-align: right;\">\n",
       "      <th></th>\n",
       "      <th>status_ts</th>\n",
       "      <th>placement_id</th>\n",
       "      <th>status</th>\n",
       "      <th>revenue</th>\n",
       "    </tr>\n",
       "  </thead>\n",
       "  <tbody>\n",
       "    <tr>\n",
       "      <td>0</td>\n",
       "      <td>2018-01-01 10:54:15+05:30</td>\n",
       "      <td>1264</td>\n",
       "      <td>in_transit</td>\n",
       "      <td>0</td>\n",
       "    </tr>\n",
       "    <tr>\n",
       "      <td>1</td>\n",
       "      <td>2018-01-01 12:57:15+05:30</td>\n",
       "      <td>1428</td>\n",
       "      <td>in_transit</td>\n",
       "      <td>0</td>\n",
       "    </tr>\n",
       "    <tr>\n",
       "      <td>2</td>\n",
       "      <td>2018-01-01 13:22:15+05:30</td>\n",
       "      <td>1782</td>\n",
       "      <td>in_transit</td>\n",
       "      <td>0</td>\n",
       "    </tr>\n",
       "    <tr>\n",
       "      <td>3</td>\n",
       "      <td>2018-01-01 18:17:15+05:30</td>\n",
       "      <td>2294</td>\n",
       "      <td>in_transit</td>\n",
       "      <td>0</td>\n",
       "    </tr>\n",
       "    <tr>\n",
       "      <td>4</td>\n",
       "      <td>2018-01-01 23:51:15+05:30</td>\n",
       "      <td>1482</td>\n",
       "      <td>in_transit</td>\n",
       "      <td>0</td>\n",
       "    </tr>\n",
       "  </tbody>\n",
       "</table>\n",
       "</div>"
      ],
      "text/plain": [
       "                   status_ts  placement_id      status  revenue\n",
       "0  2018-01-01 10:54:15+05:30          1264  in_transit        0\n",
       "1  2018-01-01 12:57:15+05:30          1428  in_transit        0\n",
       "2  2018-01-01 13:22:15+05:30          1782  in_transit        0\n",
       "3  2018-01-01 18:17:15+05:30          2294  in_transit        0\n",
       "4  2018-01-01 23:51:15+05:30          1482  in_transit        0"
      ]
     },
     "execution_count": 5,
     "metadata": {},
     "output_type": "execute_result"
    }
   ],
   "source": [
    "status.head()"
   ]
  },
  {
   "cell_type": "markdown",
   "metadata": {},
   "source": [
    "#### Converting the timestamp into datetime format"
   ]
  },
  {
   "cell_type": "code",
   "execution_count": 6,
   "metadata": {},
   "outputs": [
    {
     "name": "stdout",
     "output_type": "stream",
     "text": [
      "<class 'pandas.core.frame.DataFrame'>\n",
      "DatetimeIndex: 3000 entries, 2018-01-01 17:55:15+05:30 to 2020-11-16 22:54:15+05:30\n",
      "Data columns (total 7 columns):\n",
      "placement_id      3000 non-null int64\n",
      "truck_plate       3000 non-null object\n",
      "truck_capacity    3000 non-null int64\n",
      "driver_id         3000 non-null int64\n",
      "driver_phone      3000 non-null int64\n",
      "goods_weight      3000 non-null int64\n",
      "shipping_fee      3000 non-null int64\n",
      "dtypes: int64(6), object(1)\n",
      "memory usage: 187.5+ KB\n"
     ]
    }
   ],
   "source": [
    "placement['placement_ts']=pd.to_datetime(placement['placement_ts'])\n",
    "placement.set_index('placement_ts', inplace = True)\n",
    "placement.info()"
   ]
  },
  {
   "cell_type": "code",
   "execution_count": 7,
   "metadata": {},
   "outputs": [
    {
     "data": {
      "text/html": [
       "<div>\n",
       "<style scoped>\n",
       "    .dataframe tbody tr th:only-of-type {\n",
       "        vertical-align: middle;\n",
       "    }\n",
       "\n",
       "    .dataframe tbody tr th {\n",
       "        vertical-align: top;\n",
       "    }\n",
       "\n",
       "    .dataframe thead th {\n",
       "        text-align: right;\n",
       "    }\n",
       "</style>\n",
       "<table border=\"1\" class=\"dataframe\">\n",
       "  <thead>\n",
       "    <tr style=\"text-align: right;\">\n",
       "      <th></th>\n",
       "      <th>placement_id</th>\n",
       "      <th>truck_plate</th>\n",
       "      <th>truck_capacity</th>\n",
       "      <th>driver_id</th>\n",
       "      <th>driver_phone</th>\n",
       "      <th>goods_weight</th>\n",
       "      <th>shipping_fee</th>\n",
       "    </tr>\n",
       "    <tr>\n",
       "      <th>placement_ts</th>\n",
       "      <th></th>\n",
       "      <th></th>\n",
       "      <th></th>\n",
       "      <th></th>\n",
       "      <th></th>\n",
       "      <th></th>\n",
       "      <th></th>\n",
       "    </tr>\n",
       "  </thead>\n",
       "  <tbody>\n",
       "    <tr>\n",
       "      <td>2018-01-01 17:55:15+05:30</td>\n",
       "      <td>0</td>\n",
       "      <td>TNE3ZJQPRH</td>\n",
       "      <td>10</td>\n",
       "      <td>257</td>\n",
       "      <td>5701819972</td>\n",
       "      <td>27</td>\n",
       "      <td>40411</td>\n",
       "    </tr>\n",
       "    <tr>\n",
       "      <td>2018-01-02 02:48:15+05:30</td>\n",
       "      <td>1</td>\n",
       "      <td>APBOXM6CYR</td>\n",
       "      <td>21</td>\n",
       "      <td>243</td>\n",
       "      <td>8160025431</td>\n",
       "      <td>20</td>\n",
       "      <td>81731</td>\n",
       "    </tr>\n",
       "    <tr>\n",
       "      <td>2018-01-02 08:07:15+05:30</td>\n",
       "      <td>2</td>\n",
       "      <td>JHFO87NR8U</td>\n",
       "      <td>21</td>\n",
       "      <td>105</td>\n",
       "      <td>5737886603</td>\n",
       "      <td>17</td>\n",
       "      <td>13562</td>\n",
       "    </tr>\n",
       "    <tr>\n",
       "      <td>2018-01-02 22:33:15+05:30</td>\n",
       "      <td>3</td>\n",
       "      <td>TN0MUM266Q</td>\n",
       "      <td>25</td>\n",
       "      <td>208</td>\n",
       "      <td>6527430949</td>\n",
       "      <td>18</td>\n",
       "      <td>90496</td>\n",
       "    </tr>\n",
       "    <tr>\n",
       "      <td>2018-01-03 07:51:15+05:30</td>\n",
       "      <td>4</td>\n",
       "      <td>JH92ZSVZ9I</td>\n",
       "      <td>17</td>\n",
       "      <td>25</td>\n",
       "      <td>5182354054</td>\n",
       "      <td>30</td>\n",
       "      <td>74317</td>\n",
       "    </tr>\n",
       "  </tbody>\n",
       "</table>\n",
       "</div>"
      ],
      "text/plain": [
       "                           placement_id truck_plate  truck_capacity  \\\n",
       "placement_ts                                                          \n",
       "2018-01-01 17:55:15+05:30             0  TNE3ZJQPRH              10   \n",
       "2018-01-02 02:48:15+05:30             1  APBOXM6CYR              21   \n",
       "2018-01-02 08:07:15+05:30             2  JHFO87NR8U              21   \n",
       "2018-01-02 22:33:15+05:30             3  TN0MUM266Q              25   \n",
       "2018-01-03 07:51:15+05:30             4  JH92ZSVZ9I              17   \n",
       "\n",
       "                           driver_id  driver_phone  goods_weight  shipping_fee  \n",
       "placement_ts                                                                    \n",
       "2018-01-01 17:55:15+05:30        257    5701819972            27         40411  \n",
       "2018-01-02 02:48:15+05:30        243    8160025431            20         81731  \n",
       "2018-01-02 08:07:15+05:30        105    5737886603            17         13562  \n",
       "2018-01-02 22:33:15+05:30        208    6527430949            18         90496  \n",
       "2018-01-03 07:51:15+05:30         25    5182354054            30         74317  "
      ]
     },
     "execution_count": 7,
     "metadata": {},
     "output_type": "execute_result"
    }
   ],
   "source": [
    "placement.head()"
   ]
  },
  {
   "cell_type": "markdown",
   "metadata": {},
   "source": [
    "#### Checking whether there are any duplicates in the placement data"
   ]
  },
  {
   "cell_type": "code",
   "execution_count": 8,
   "metadata": {},
   "outputs": [
    {
     "data": {
      "text/plain": [
       "(0, 7)"
      ]
     },
     "execution_count": 8,
     "metadata": {},
     "output_type": "execute_result"
    }
   ],
   "source": [
    "duplicate_placement = placement[placement.duplicated()]\n",
    "duplicate_placement.shape"
   ]
  },
  {
   "cell_type": "markdown",
   "metadata": {},
   "source": [
    "#### Checking whether there are any null values in the placement data"
   ]
  },
  {
   "cell_type": "code",
   "execution_count": 9,
   "metadata": {},
   "outputs": [
    {
     "name": "stdout",
     "output_type": "stream",
     "text": [
      "Number of NaN values in placement data is 0\n"
     ]
    }
   ],
   "source": [
    "print(\"Number of NaN values in placement data is \"+str(placement.isnull().sum().sum()))"
   ]
  },
  {
   "cell_type": "markdown",
   "metadata": {},
   "source": [
    "### Q1. How many placements has the company received on a monthly basis, since Jan 2018?"
   ]
  },
  {
   "cell_type": "code",
   "execution_count": 10,
   "metadata": {},
   "outputs": [],
   "source": [
    "monthly_basis=placement.resample('1M').count()['placement_id']"
   ]
  },
  {
   "cell_type": "markdown",
   "metadata": {},
   "source": [
    "#### *On average, the company has received 86 placements per month*"
   ]
  },
  {
   "cell_type": "code",
   "execution_count": 11,
   "metadata": {},
   "outputs": [
    {
     "name": "stdout",
     "output_type": "stream",
     "text": [
      "85.71428571428571\n"
     ]
    }
   ],
   "source": [
    "print(monthly_basis.mean())"
   ]
  },
  {
   "cell_type": "markdown",
   "metadata": {},
   "source": [
    "### Q2. What is the distribution of the number of placements received per truck in 2020?"
   ]
  },
  {
   "cell_type": "markdown",
   "metadata": {},
   "source": [
    "#### Filtering the placement data"
   ]
  },
  {
   "cell_type": "code",
   "execution_count": 12,
   "metadata": {},
   "outputs": [
    {
     "data": {
      "text/html": [
       "<div>\n",
       "<style scoped>\n",
       "    .dataframe tbody tr th:only-of-type {\n",
       "        vertical-align: middle;\n",
       "    }\n",
       "\n",
       "    .dataframe tbody tr th {\n",
       "        vertical-align: top;\n",
       "    }\n",
       "\n",
       "    .dataframe thead th {\n",
       "        text-align: right;\n",
       "    }\n",
       "</style>\n",
       "<table border=\"1\" class=\"dataframe\">\n",
       "  <thead>\n",
       "    <tr style=\"text-align: right;\">\n",
       "      <th></th>\n",
       "      <th>placement_id</th>\n",
       "      <th>truck_plate</th>\n",
       "      <th>truck_capacity</th>\n",
       "      <th>driver_id</th>\n",
       "      <th>driver_phone</th>\n",
       "      <th>goods_weight</th>\n",
       "      <th>shipping_fee</th>\n",
       "    </tr>\n",
       "    <tr>\n",
       "      <th>placement_ts</th>\n",
       "      <th></th>\n",
       "      <th></th>\n",
       "      <th></th>\n",
       "      <th></th>\n",
       "      <th></th>\n",
       "      <th></th>\n",
       "      <th></th>\n",
       "    </tr>\n",
       "  </thead>\n",
       "  <tbody>\n",
       "    <tr>\n",
       "      <td>2020-01-01 06:10:15+05:30</td>\n",
       "      <td>2086</td>\n",
       "      <td>JHACOV8T0K</td>\n",
       "      <td>30</td>\n",
       "      <td>394</td>\n",
       "      <td>7687547708</td>\n",
       "      <td>13</td>\n",
       "      <td>97109</td>\n",
       "    </tr>\n",
       "    <tr>\n",
       "      <td>2020-01-01 09:15:15+05:30</td>\n",
       "      <td>2087</td>\n",
       "      <td>TS531CZK0E</td>\n",
       "      <td>30</td>\n",
       "      <td>372</td>\n",
       "      <td>9638746195</td>\n",
       "      <td>16</td>\n",
       "      <td>52456</td>\n",
       "    </tr>\n",
       "    <tr>\n",
       "      <td>2020-01-02 00:38:15+05:30</td>\n",
       "      <td>2088</td>\n",
       "      <td>GJW5SDIQ3A</td>\n",
       "      <td>17</td>\n",
       "      <td>150</td>\n",
       "      <td>8154626954</td>\n",
       "      <td>30</td>\n",
       "      <td>94022</td>\n",
       "    </tr>\n",
       "    <tr>\n",
       "      <td>2020-01-02 11:07:15+05:30</td>\n",
       "      <td>2089</td>\n",
       "      <td>TNS3V833NJ</td>\n",
       "      <td>10</td>\n",
       "      <td>389</td>\n",
       "      <td>6996252291</td>\n",
       "      <td>20</td>\n",
       "      <td>43982</td>\n",
       "    </tr>\n",
       "    <tr>\n",
       "      <td>2020-01-02 17:12:15+05:30</td>\n",
       "      <td>2090</td>\n",
       "      <td>TNS3V833NJ</td>\n",
       "      <td>10</td>\n",
       "      <td>310</td>\n",
       "      <td>5275705583</td>\n",
       "      <td>22</td>\n",
       "      <td>40792</td>\n",
       "    </tr>\n",
       "  </tbody>\n",
       "</table>\n",
       "</div>"
      ],
      "text/plain": [
       "                           placement_id truck_plate  truck_capacity  \\\n",
       "placement_ts                                                          \n",
       "2020-01-01 06:10:15+05:30          2086  JHACOV8T0K              30   \n",
       "2020-01-01 09:15:15+05:30          2087  TS531CZK0E              30   \n",
       "2020-01-02 00:38:15+05:30          2088  GJW5SDIQ3A              17   \n",
       "2020-01-02 11:07:15+05:30          2089  TNS3V833NJ              10   \n",
       "2020-01-02 17:12:15+05:30          2090  TNS3V833NJ              10   \n",
       "\n",
       "                           driver_id  driver_phone  goods_weight  shipping_fee  \n",
       "placement_ts                                                                    \n",
       "2020-01-01 06:10:15+05:30        394    7687547708            13         97109  \n",
       "2020-01-01 09:15:15+05:30        372    9638746195            16         52456  \n",
       "2020-01-02 00:38:15+05:30        150    8154626954            30         94022  \n",
       "2020-01-02 11:07:15+05:30        389    6996252291            20         43982  \n",
       "2020-01-02 17:12:15+05:30        310    5275705583            22         40792  "
      ]
     },
     "execution_count": 12,
     "metadata": {},
     "output_type": "execute_result"
    }
   ],
   "source": [
    "start_date = '2020-01-01'\n",
    "\n",
    "mask = (placement.index >= start_date)\n",
    "\n",
    "k_placement=placement.loc[mask]\n",
    "\n",
    "k_placement.head()"
   ]
  },
  {
   "cell_type": "code",
   "execution_count": 13,
   "metadata": {},
   "outputs": [
    {
     "data": {
      "text/plain": [
       "(914, 7)"
      ]
     },
     "execution_count": 13,
     "metadata": {},
     "output_type": "execute_result"
    }
   ],
   "source": [
    "k_placement.shape"
   ]
  },
  {
   "cell_type": "code",
   "execution_count": 14,
   "metadata": {},
   "outputs": [
    {
     "name": "stdout",
     "output_type": "stream",
     "text": [
      "driver_id\n",
      "0      1\n",
      "1      3\n",
      "2      2\n",
      "3      1\n",
      "4      1\n",
      "      ..\n",
      "495    1\n",
      "496    1\n",
      "497    4\n",
      "498    2\n",
      "499    3\n",
      "Name: driver_id, Length: 429, dtype: int64\n"
     ]
    }
   ],
   "source": [
    "per_truck = k_placement.groupby(['driver_id']).driver_id.count()\n",
    "print(per_truck)"
   ]
  },
  {
   "cell_type": "markdown",
   "metadata": {},
   "source": [
    "#### Plotting the distribution of the number of placements "
   ]
  },
  {
   "cell_type": "code",
   "execution_count": 15,
   "metadata": {},
   "outputs": [
    {
     "data": {
      "text/plain": [
       "<matplotlib.axes._subplots.AxesSubplot at 0x1b54d3ed248>"
      ]
     },
     "execution_count": 15,
     "metadata": {},
     "output_type": "execute_result"
    },
    {
     "data": {
      "image/png": "[encoded data removed]",
      "text/plain": [
       "<Figure size 432x288 with 1 Axes>"
      ]
     },
     "metadata": {
      "needs_background": "light"
     },
     "output_type": "display_data"
    }
   ],
   "source": [
    "per_truck.plot(kind='hist')"
   ]
  },
  {
   "cell_type": "markdown",
   "metadata": {},
   "source": [
    "#### The above plot shows that around 160 drivers received only one placement in 2020"
   ]
  },
  {
   "cell_type": "markdown",
   "metadata": {},
   "source": [
    "#### *On average, each driver received 2 placements approximately in 2020*"
   ]
  },
  {
   "cell_type": "code",
   "execution_count": 16,
   "metadata": {},
   "outputs": [
    {
     "name": "stdout",
     "output_type": "stream",
     "text": [
      "2.1305361305361306\n"
     ]
    }
   ],
   "source": [
    "avg_per_truck=per_truck.mean()\n",
    "print(avg_per_truck)"
   ]
  },
  {
   "cell_type": "markdown",
   "metadata": {},
   "source": [
    "### Q3. How many placements are not fulfilled (never entered “in_transit” or “delivered” status) as of 2020-11-15?"
   ]
  },
  {
   "cell_type": "code",
   "execution_count": 17,
   "metadata": {},
   "outputs": [
    {
     "data": {
      "text/html": [
       "<div>\n",
       "<style scoped>\n",
       "    .dataframe tbody tr th:only-of-type {\n",
       "        vertical-align: middle;\n",
       "    }\n",
       "\n",
       "    .dataframe tbody tr th {\n",
       "        vertical-align: top;\n",
       "    }\n",
       "\n",
       "    .dataframe thead th {\n",
       "        text-align: right;\n",
       "    }\n",
       "</style>\n",
       "<table border=\"1\" class=\"dataframe\">\n",
       "  <thead>\n",
       "    <tr style=\"text-align: right;\">\n",
       "      <th></th>\n",
       "      <th>placement_ts</th>\n",
       "      <th>placement_id</th>\n",
       "      <th>truck_plate</th>\n",
       "      <th>truck_capacity</th>\n",
       "      <th>driver_id</th>\n",
       "      <th>driver_phone</th>\n",
       "      <th>goods_weight</th>\n",
       "      <th>shipping_fee</th>\n",
       "    </tr>\n",
       "  </thead>\n",
       "  <tbody>\n",
       "    <tr>\n",
       "      <td>0</td>\n",
       "      <td>2018-01-01 17:55:15+05:30</td>\n",
       "      <td>0</td>\n",
       "      <td>TNE3ZJQPRH</td>\n",
       "      <td>10</td>\n",
       "      <td>257</td>\n",
       "      <td>5701819972</td>\n",
       "      <td>27</td>\n",
       "      <td>40411</td>\n",
       "    </tr>\n",
       "    <tr>\n",
       "      <td>1</td>\n",
       "      <td>2018-01-02 02:48:15+05:30</td>\n",
       "      <td>1</td>\n",
       "      <td>APBOXM6CYR</td>\n",
       "      <td>21</td>\n",
       "      <td>243</td>\n",
       "      <td>8160025431</td>\n",
       "      <td>20</td>\n",
       "      <td>81731</td>\n",
       "    </tr>\n",
       "    <tr>\n",
       "      <td>2</td>\n",
       "      <td>2018-01-02 08:07:15+05:30</td>\n",
       "      <td>2</td>\n",
       "      <td>JHFO87NR8U</td>\n",
       "      <td>21</td>\n",
       "      <td>105</td>\n",
       "      <td>5737886603</td>\n",
       "      <td>17</td>\n",
       "      <td>13562</td>\n",
       "    </tr>\n",
       "    <tr>\n",
       "      <td>3</td>\n",
       "      <td>2018-01-02 22:33:15+05:30</td>\n",
       "      <td>3</td>\n",
       "      <td>TN0MUM266Q</td>\n",
       "      <td>25</td>\n",
       "      <td>208</td>\n",
       "      <td>6527430949</td>\n",
       "      <td>18</td>\n",
       "      <td>90496</td>\n",
       "    </tr>\n",
       "    <tr>\n",
       "      <td>4</td>\n",
       "      <td>2018-01-03 07:51:15+05:30</td>\n",
       "      <td>4</td>\n",
       "      <td>JH92ZSVZ9I</td>\n",
       "      <td>17</td>\n",
       "      <td>25</td>\n",
       "      <td>5182354054</td>\n",
       "      <td>30</td>\n",
       "      <td>74317</td>\n",
       "    </tr>\n",
       "  </tbody>\n",
       "</table>\n",
       "</div>"
      ],
      "text/plain": [
       "               placement_ts  placement_id truck_plate  truck_capacity  \\\n",
       "0 2018-01-01 17:55:15+05:30             0  TNE3ZJQPRH              10   \n",
       "1 2018-01-02 02:48:15+05:30             1  APBOXM6CYR              21   \n",
       "2 2018-01-02 08:07:15+05:30             2  JHFO87NR8U              21   \n",
       "3 2018-01-02 22:33:15+05:30             3  TN0MUM266Q              25   \n",
       "4 2018-01-03 07:51:15+05:30             4  JH92ZSVZ9I              17   \n",
       "\n",
       "   driver_id  driver_phone  goods_weight  shipping_fee  \n",
       "0        257    5701819972            27         40411  \n",
       "1        243    8160025431            20         81731  \n",
       "2        105    5737886603            17         13562  \n",
       "3        208    6527430949            18         90496  \n",
       "4         25    5182354054            30         74317  "
      ]
     },
     "execution_count": 17,
     "metadata": {},
     "output_type": "execute_result"
    }
   ],
   "source": [
    "placement.reset_index(level=0, inplace=True)\n",
    "placement.head()"
   ]
  },
  {
   "cell_type": "code",
   "execution_count": 18,
   "metadata": {},
   "outputs": [
    {
     "data": {
      "text/html": [
       "<div>\n",
       "<style scoped>\n",
       "    .dataframe tbody tr th:only-of-type {\n",
       "        vertical-align: middle;\n",
       "    }\n",
       "\n",
       "    .dataframe tbody tr th {\n",
       "        vertical-align: top;\n",
       "    }\n",
       "\n",
       "    .dataframe thead th {\n",
       "        text-align: right;\n",
       "    }\n",
       "</style>\n",
       "<table border=\"1\" class=\"dataframe\">\n",
       "  <thead>\n",
       "    <tr style=\"text-align: right;\">\n",
       "      <th></th>\n",
       "      <th>placement_ts</th>\n",
       "      <th>placement_id</th>\n",
       "      <th>truck_plate</th>\n",
       "      <th>truck_capacity</th>\n",
       "      <th>driver_id</th>\n",
       "      <th>driver_phone</th>\n",
       "      <th>goods_weight</th>\n",
       "      <th>shipping_fee</th>\n",
       "    </tr>\n",
       "  </thead>\n",
       "  <tbody>\n",
       "    <tr>\n",
       "      <td>755</td>\n",
       "      <td>2018-09-30 04:48:15+05:30</td>\n",
       "      <td>755</td>\n",
       "      <td>JHRWVSH0G4</td>\n",
       "      <td>25</td>\n",
       "      <td>320</td>\n",
       "      <td>9902415009</td>\n",
       "      <td>14</td>\n",
       "      <td>33151</td>\n",
       "    </tr>\n",
       "    <tr>\n",
       "      <td>997</td>\n",
       "      <td>2018-12-21 13:10:15+05:30</td>\n",
       "      <td>997</td>\n",
       "      <td>WBOII03XRG</td>\n",
       "      <td>25</td>\n",
       "      <td>5</td>\n",
       "      <td>6095853178</td>\n",
       "      <td>28</td>\n",
       "      <td>54075</td>\n",
       "    </tr>\n",
       "    <tr>\n",
       "      <td>1020</td>\n",
       "      <td>2018-12-30 07:40:15+05:30</td>\n",
       "      <td>1020</td>\n",
       "      <td>TSIGCYVQ0G</td>\n",
       "      <td>21</td>\n",
       "      <td>354</td>\n",
       "      <td>8845219157</td>\n",
       "      <td>28</td>\n",
       "      <td>35979</td>\n",
       "    </tr>\n",
       "    <tr>\n",
       "      <td>1401</td>\n",
       "      <td>2019-05-14 13:50:15+05:30</td>\n",
       "      <td>1401</td>\n",
       "      <td>JH4K5GRWAG</td>\n",
       "      <td>17</td>\n",
       "      <td>246</td>\n",
       "      <td>7548817375</td>\n",
       "      <td>33</td>\n",
       "      <td>98836</td>\n",
       "    </tr>\n",
       "    <tr>\n",
       "      <td>1437</td>\n",
       "      <td>2019-05-26 08:36:15+05:30</td>\n",
       "      <td>1437</td>\n",
       "      <td>TSHHIAKVHS</td>\n",
       "      <td>21</td>\n",
       "      <td>24</td>\n",
       "      <td>6614186672</td>\n",
       "      <td>26</td>\n",
       "      <td>52906</td>\n",
       "    </tr>\n",
       "  </tbody>\n",
       "</table>\n",
       "</div>"
      ],
      "text/plain": [
       "                  placement_ts  placement_id truck_plate  truck_capacity  \\\n",
       "755  2018-09-30 04:48:15+05:30           755  JHRWVSH0G4              25   \n",
       "997  2018-12-21 13:10:15+05:30           997  WBOII03XRG              25   \n",
       "1020 2018-12-30 07:40:15+05:30          1020  TSIGCYVQ0G              21   \n",
       "1401 2019-05-14 13:50:15+05:30          1401  JH4K5GRWAG              17   \n",
       "1437 2019-05-26 08:36:15+05:30          1437  TSHHIAKVHS              21   \n",
       "\n",
       "      driver_id  driver_phone  goods_weight  shipping_fee  \n",
       "755         320    9902415009            14         33151  \n",
       "997           5    6095853178            28         54075  \n",
       "1020        354    8845219157            28         35979  \n",
       "1401        246    7548817375            33         98836  \n",
       "1437         24    6614186672            26         52906  "
      ]
     },
     "execution_count": 18,
     "metadata": {},
     "output_type": "execute_result"
    }
   ],
   "source": [
    "not_fulfilled = placement[placement.placement_id.isin(status.placement_id) == False]\n",
    "not_fulfilled.head()"
   ]
  },
  {
   "cell_type": "markdown",
   "metadata": {},
   "source": [
    "#### *There are 10 placements which are not fullfilled*"
   ]
  },
  {
   "cell_type": "code",
   "execution_count": 19,
   "metadata": {},
   "outputs": [
    {
     "data": {
      "text/plain": [
       "(10, 8)"
      ]
     },
     "execution_count": 19,
     "metadata": {},
     "output_type": "execute_result"
    }
   ],
   "source": [
    "not_fulfilled.shape"
   ]
  },
  {
   "cell_type": "markdown",
   "metadata": {},
   "source": [
    "### Q4. What’s the company’s monthly profit margin since 2018-01-01?"
   ]
  },
  {
   "cell_type": "code",
   "execution_count": 20,
   "metadata": {},
   "outputs": [
    {
     "data": {
      "text/html": [
       "<div>\n",
       "<style scoped>\n",
       "    .dataframe tbody tr th:only-of-type {\n",
       "        vertical-align: middle;\n",
       "    }\n",
       "\n",
       "    .dataframe tbody tr th {\n",
       "        vertical-align: top;\n",
       "    }\n",
       "\n",
       "    .dataframe thead th {\n",
       "        text-align: right;\n",
       "    }\n",
       "</style>\n",
       "<table border=\"1\" class=\"dataframe\">\n",
       "  <thead>\n",
       "    <tr style=\"text-align: right;\">\n",
       "      <th></th>\n",
       "      <th>status_ts</th>\n",
       "      <th>placement_id</th>\n",
       "      <th>status</th>\n",
       "      <th>revenue</th>\n",
       "    </tr>\n",
       "  </thead>\n",
       "  <tbody>\n",
       "    <tr>\n",
       "      <td>5975</td>\n",
       "      <td>2021-06-06 23:09:15+05:30</td>\n",
       "      <td>2354</td>\n",
       "      <td>delivered</td>\n",
       "      <td>76838</td>\n",
       "    </tr>\n",
       "    <tr>\n",
       "      <td>5976</td>\n",
       "      <td>2021-06-07 02:40:15+05:30</td>\n",
       "      <td>2997</td>\n",
       "      <td>delivered</td>\n",
       "      <td>100792</td>\n",
       "    </tr>\n",
       "    <tr>\n",
       "      <td>5977</td>\n",
       "      <td>2021-06-07 06:26:15+05:30</td>\n",
       "      <td>1653</td>\n",
       "      <td>delivered</td>\n",
       "      <td>109800</td>\n",
       "    </tr>\n",
       "    <tr>\n",
       "      <td>5978</td>\n",
       "      <td>2021-06-07 08:59:15+05:30</td>\n",
       "      <td>897</td>\n",
       "      <td>delivered</td>\n",
       "      <td>121074</td>\n",
       "    </tr>\n",
       "    <tr>\n",
       "      <td>5979</td>\n",
       "      <td>2021-06-07 10:18:15+05:30</td>\n",
       "      <td>2776</td>\n",
       "      <td>delivered</td>\n",
       "      <td>53802</td>\n",
       "    </tr>\n",
       "  </tbody>\n",
       "</table>\n",
       "</div>"
      ],
      "text/plain": [
       "                      status_ts  placement_id     status  revenue\n",
       "5975  2021-06-06 23:09:15+05:30          2354  delivered    76838\n",
       "5976  2021-06-07 02:40:15+05:30          2997  delivered   100792\n",
       "5977  2021-06-07 06:26:15+05:30          1653  delivered   109800\n",
       "5978  2021-06-07 08:59:15+05:30           897  delivered   121074\n",
       "5979  2021-06-07 10:18:15+05:30          2776  delivered    53802"
      ]
     },
     "execution_count": 20,
     "metadata": {},
     "output_type": "execute_result"
    }
   ],
   "source": [
    "status.tail()"
   ]
  },
  {
   "cell_type": "markdown",
   "metadata": {},
   "source": [
    "#### Filtering the status data"
   ]
  },
  {
   "cell_type": "code",
   "execution_count": 21,
   "metadata": {},
   "outputs": [
    {
     "data": {
      "text/html": [
       "<div>\n",
       "<style scoped>\n",
       "    .dataframe tbody tr th:only-of-type {\n",
       "        vertical-align: middle;\n",
       "    }\n",
       "\n",
       "    .dataframe tbody tr th {\n",
       "        vertical-align: top;\n",
       "    }\n",
       "\n",
       "    .dataframe thead th {\n",
       "        text-align: right;\n",
       "    }\n",
       "</style>\n",
       "<table border=\"1\" class=\"dataframe\">\n",
       "  <thead>\n",
       "    <tr style=\"text-align: right;\">\n",
       "      <th></th>\n",
       "      <th>status_ts</th>\n",
       "      <th>placement_id</th>\n",
       "      <th>status</th>\n",
       "      <th>revenue</th>\n",
       "    </tr>\n",
       "  </thead>\n",
       "  <tbody>\n",
       "    <tr>\n",
       "      <td>71</td>\n",
       "      <td>2018-01-15 17:43:15+05:30</td>\n",
       "      <td>1858.0</td>\n",
       "      <td>delivered</td>\n",
       "      <td>139313.0</td>\n",
       "    </tr>\n",
       "    <tr>\n",
       "      <td>81</td>\n",
       "      <td>2018-01-17 10:54:15+05:30</td>\n",
       "      <td>961.0</td>\n",
       "      <td>delivered</td>\n",
       "      <td>127853.0</td>\n",
       "    </tr>\n",
       "    <tr>\n",
       "      <td>120</td>\n",
       "      <td>2018-01-26 18:56:15+05:30</td>\n",
       "      <td>1961.0</td>\n",
       "      <td>delivered</td>\n",
       "      <td>71620.0</td>\n",
       "    </tr>\n",
       "    <tr>\n",
       "      <td>138</td>\n",
       "      <td>2018-01-29 21:22:15+05:30</td>\n",
       "      <td>157.0</td>\n",
       "      <td>delivered</td>\n",
       "      <td>64193.0</td>\n",
       "    </tr>\n",
       "    <tr>\n",
       "      <td>145</td>\n",
       "      <td>2018-02-01 04:46:15+05:30</td>\n",
       "      <td>1160.0</td>\n",
       "      <td>delivered</td>\n",
       "      <td>127907.0</td>\n",
       "    </tr>\n",
       "  </tbody>\n",
       "</table>\n",
       "</div>"
      ],
      "text/plain": [
       "                     status_ts  placement_id     status   revenue\n",
       "71   2018-01-15 17:43:15+05:30        1858.0  delivered  139313.0\n",
       "81   2018-01-17 10:54:15+05:30         961.0  delivered  127853.0\n",
       "120  2018-01-26 18:56:15+05:30        1961.0  delivered   71620.0\n",
       "138  2018-01-29 21:22:15+05:30         157.0  delivered   64193.0\n",
       "145  2018-02-01 04:46:15+05:30        1160.0  delivered  127907.0"
      ]
     },
     "execution_count": 21,
     "metadata": {},
     "output_type": "execute_result"
    }
   ],
   "source": [
    "filter = status['status']==\"delivered\"\n",
    "  \n",
    "# filtering status \n",
    "status.where(filter, inplace = True)\n",
    "\n",
    "status.dropna(inplace = True)\n",
    "\n",
    "status.head()"
   ]
  },
  {
   "cell_type": "code",
   "execution_count": 22,
   "metadata": {},
   "outputs": [
    {
     "data": {
      "text/plain": [
       "(2990, 4)"
      ]
     },
     "execution_count": 22,
     "metadata": {},
     "output_type": "execute_result"
    }
   ],
   "source": [
    "status.shape"
   ]
  },
  {
   "cell_type": "code",
   "execution_count": 23,
   "metadata": {},
   "outputs": [
    {
     "data": {
      "text/plain": [
       "(2990, 11)"
      ]
     },
     "execution_count": 23,
     "metadata": {},
     "output_type": "execute_result"
    }
   ],
   "source": [
    "pl_status = pd.merge(placement,status,on=\"placement_id\")\n",
    "\n",
    "pl_status.shape"
   ]
  },
  {
   "cell_type": "code",
   "execution_count": 24,
   "metadata": {},
   "outputs": [],
   "source": [
    "pl_status['profit']=pl_status['revenue']-pl_status['shipping_fee']\n",
    "pl_status['margin']=pl_status['profit']/pl_status['revenue']"
   ]
  },
  {
   "cell_type": "code",
   "execution_count": 25,
   "metadata": {},
   "outputs": [
    {
     "data": {
      "text/html": [
       "<div>\n",
       "<style scoped>\n",
       "    .dataframe tbody tr th:only-of-type {\n",
       "        vertical-align: middle;\n",
       "    }\n",
       "\n",
       "    .dataframe tbody tr th {\n",
       "        vertical-align: top;\n",
       "    }\n",
       "\n",
       "    .dataframe thead th {\n",
       "        text-align: right;\n",
       "    }\n",
       "</style>\n",
       "<table border=\"1\" class=\"dataframe\">\n",
       "  <thead>\n",
       "    <tr style=\"text-align: right;\">\n",
       "      <th></th>\n",
       "      <th>placement_ts</th>\n",
       "      <th>placement_id</th>\n",
       "      <th>truck_plate</th>\n",
       "      <th>truck_capacity</th>\n",
       "      <th>driver_id</th>\n",
       "      <th>driver_phone</th>\n",
       "      <th>goods_weight</th>\n",
       "      <th>shipping_fee</th>\n",
       "      <th>status_ts</th>\n",
       "      <th>status</th>\n",
       "      <th>revenue</th>\n",
       "      <th>profit</th>\n",
       "      <th>margin</th>\n",
       "    </tr>\n",
       "  </thead>\n",
       "  <tbody>\n",
       "    <tr>\n",
       "      <td>0</td>\n",
       "      <td>2018-01-01 17:55:15+05:30</td>\n",
       "      <td>0</td>\n",
       "      <td>TNE3ZJQPRH</td>\n",
       "      <td>10</td>\n",
       "      <td>257</td>\n",
       "      <td>5701819972</td>\n",
       "      <td>27</td>\n",
       "      <td>40411</td>\n",
       "      <td>2020-02-04 14:40:15+05:30</td>\n",
       "      <td>delivered</td>\n",
       "      <td>67281.0</td>\n",
       "      <td>26870.0</td>\n",
       "      <td>0.399370</td>\n",
       "    </tr>\n",
       "    <tr>\n",
       "      <td>1</td>\n",
       "      <td>2018-01-02 02:48:15+05:30</td>\n",
       "      <td>1</td>\n",
       "      <td>APBOXM6CYR</td>\n",
       "      <td>21</td>\n",
       "      <td>243</td>\n",
       "      <td>8160025431</td>\n",
       "      <td>20</td>\n",
       "      <td>81731</td>\n",
       "      <td>2020-08-29 17:56:15+05:30</td>\n",
       "      <td>delivered</td>\n",
       "      <td>126349.0</td>\n",
       "      <td>44618.0</td>\n",
       "      <td>0.353133</td>\n",
       "    </tr>\n",
       "    <tr>\n",
       "      <td>2</td>\n",
       "      <td>2018-01-02 08:07:15+05:30</td>\n",
       "      <td>2</td>\n",
       "      <td>JHFO87NR8U</td>\n",
       "      <td>21</td>\n",
       "      <td>105</td>\n",
       "      <td>5737886603</td>\n",
       "      <td>17</td>\n",
       "      <td>13562</td>\n",
       "      <td>2021-04-18 08:22:15+05:30</td>\n",
       "      <td>delivered</td>\n",
       "      <td>69805.0</td>\n",
       "      <td>56243.0</td>\n",
       "      <td>0.805716</td>\n",
       "    </tr>\n",
       "    <tr>\n",
       "      <td>3</td>\n",
       "      <td>2018-01-02 22:33:15+05:30</td>\n",
       "      <td>3</td>\n",
       "      <td>TN0MUM266Q</td>\n",
       "      <td>25</td>\n",
       "      <td>208</td>\n",
       "      <td>6527430949</td>\n",
       "      <td>18</td>\n",
       "      <td>90496</td>\n",
       "      <td>2021-02-12 20:04:15+05:30</td>\n",
       "      <td>delivered</td>\n",
       "      <td>145395.0</td>\n",
       "      <td>54899.0</td>\n",
       "      <td>0.377585</td>\n",
       "    </tr>\n",
       "    <tr>\n",
       "      <td>4</td>\n",
       "      <td>2018-01-03 07:51:15+05:30</td>\n",
       "      <td>4</td>\n",
       "      <td>JH92ZSVZ9I</td>\n",
       "      <td>17</td>\n",
       "      <td>25</td>\n",
       "      <td>5182354054</td>\n",
       "      <td>30</td>\n",
       "      <td>74317</td>\n",
       "      <td>2021-04-14 23:25:15+05:30</td>\n",
       "      <td>delivered</td>\n",
       "      <td>110139.0</td>\n",
       "      <td>35822.0</td>\n",
       "      <td>0.325244</td>\n",
       "    </tr>\n",
       "  </tbody>\n",
       "</table>\n",
       "</div>"
      ],
      "text/plain": [
       "               placement_ts  placement_id truck_plate  truck_capacity  \\\n",
       "0 2018-01-01 17:55:15+05:30             0  TNE3ZJQPRH              10   \n",
       "1 2018-01-02 02:48:15+05:30             1  APBOXM6CYR              21   \n",
       "2 2018-01-02 08:07:15+05:30             2  JHFO87NR8U              21   \n",
       "3 2018-01-02 22:33:15+05:30             3  TN0MUM266Q              25   \n",
       "4 2018-01-03 07:51:15+05:30             4  JH92ZSVZ9I              17   \n",
       "\n",
       "   driver_id  driver_phone  goods_weight  shipping_fee  \\\n",
       "0        257    5701819972            27         40411   \n",
       "1        243    8160025431            20         81731   \n",
       "2        105    5737886603            17         13562   \n",
       "3        208    6527430949            18         90496   \n",
       "4         25    5182354054            30         74317   \n",
       "\n",
       "                   status_ts     status   revenue   profit    margin  \n",
       "0  2020-02-04 14:40:15+05:30  delivered   67281.0  26870.0  0.399370  \n",
       "1  2020-08-29 17:56:15+05:30  delivered  126349.0  44618.0  0.353133  \n",
       "2  2021-04-18 08:22:15+05:30  delivered   69805.0  56243.0  0.805716  \n",
       "3  2021-02-12 20:04:15+05:30  delivered  145395.0  54899.0  0.377585  \n",
       "4  2021-04-14 23:25:15+05:30  delivered  110139.0  35822.0  0.325244  "
      ]
     },
     "execution_count": 25,
     "metadata": {},
     "output_type": "execute_result"
    }
   ],
   "source": [
    "pl_status.head()"
   ]
  },
  {
   "cell_type": "code",
   "execution_count": 26,
   "metadata": {},
   "outputs": [],
   "source": [
    "pl_status.set_index('placement_ts', inplace = True)\n",
    "\n",
    "monthly_margin=pl_status.margin.resample('1M').mean()"
   ]
  },
  {
   "cell_type": "markdown",
   "metadata": {},
   "source": [
    "#### Plotting the monthly margins"
   ]
  },
  {
   "cell_type": "code",
   "execution_count": 27,
   "metadata": {},
   "outputs": [
    {
     "data": {
      "text/plain": [
       "<matplotlib.axes._subplots.AxesSubplot at 0x1b54d836d48>"
      ]
     },
     "execution_count": 27,
     "metadata": {},
     "output_type": "execute_result"
    },
    {
     "data": {
      "image/png": "[encoded data removed]",
      "text/plain": [
       "<Figure size 432x288 with 1 Axes>"
      ]
     },
     "metadata": {
      "needs_background": "light"
     },
     "output_type": "display_data"
    }
   ],
   "source": [
    "monthly_margin.plot(kind='bar')"
   ]
  },
  {
   "cell_type": "code",
   "execution_count": 28,
   "metadata": {},
   "outputs": [
    {
     "name": "stdout",
     "output_type": "stream",
     "text": [
      "38.43035757236925%\n"
     ]
    }
   ],
   "source": [
    "print(str(monthly_margin.mean()*100)+(\"%\"))"
   ]
  },
  {
   "cell_type": "markdown",
   "metadata": {},
   "source": [
    "#### *On average, the monthly profit margin of the company is 38.43%* "
   ]
  },
  {
   "cell_type": "markdown",
   "metadata": {},
   "source": [
    "### Q5. The dataset is randomly generated. Do you see any data hygiene problems with it?"
   ]
  },
  {
   "cell_type": "code",
   "execution_count": 29,
   "metadata": {},
   "outputs": [
    {
     "data": {
      "text/html": [
       "<div>\n",
       "<style scoped>\n",
       "    .dataframe tbody tr th:only-of-type {\n",
       "        vertical-align: middle;\n",
       "    }\n",
       "\n",
       "    .dataframe tbody tr th {\n",
       "        vertical-align: top;\n",
       "    }\n",
       "\n",
       "    .dataframe thead th {\n",
       "        text-align: right;\n",
       "    }\n",
       "</style>\n",
       "<table border=\"1\" class=\"dataframe\">\n",
       "  <thead>\n",
       "    <tr style=\"text-align: right;\">\n",
       "      <th></th>\n",
       "      <th>placement_id</th>\n",
       "      <th>truck_capacity</th>\n",
       "      <th>driver_id</th>\n",
       "      <th>driver_phone</th>\n",
       "      <th>goods_weight</th>\n",
       "      <th>shipping_fee</th>\n",
       "    </tr>\n",
       "  </thead>\n",
       "  <tbody>\n",
       "    <tr>\n",
       "      <td>placement_id</td>\n",
       "      <td>1.000000</td>\n",
       "      <td>0.035630</td>\n",
       "      <td>0.024868</td>\n",
       "      <td>0.050383</td>\n",
       "      <td>-0.015232</td>\n",
       "      <td>-0.026276</td>\n",
       "    </tr>\n",
       "    <tr>\n",
       "      <td>truck_capacity</td>\n",
       "      <td>0.035630</td>\n",
       "      <td>1.000000</td>\n",
       "      <td>-0.001574</td>\n",
       "      <td>-0.008766</td>\n",
       "      <td>-0.004209</td>\n",
       "      <td>-0.000005</td>\n",
       "    </tr>\n",
       "    <tr>\n",
       "      <td>driver_id</td>\n",
       "      <td>0.024868</td>\n",
       "      <td>-0.001574</td>\n",
       "      <td>1.000000</td>\n",
       "      <td>0.054953</td>\n",
       "      <td>0.015543</td>\n",
       "      <td>0.028155</td>\n",
       "    </tr>\n",
       "    <tr>\n",
       "      <td>driver_phone</td>\n",
       "      <td>0.050383</td>\n",
       "      <td>-0.008766</td>\n",
       "      <td>0.054953</td>\n",
       "      <td>1.000000</td>\n",
       "      <td>-0.002645</td>\n",
       "      <td>0.016731</td>\n",
       "    </tr>\n",
       "    <tr>\n",
       "      <td>goods_weight</td>\n",
       "      <td>-0.015232</td>\n",
       "      <td>-0.004209</td>\n",
       "      <td>0.015543</td>\n",
       "      <td>-0.002645</td>\n",
       "      <td>1.000000</td>\n",
       "      <td>-0.013713</td>\n",
       "    </tr>\n",
       "    <tr>\n",
       "      <td>shipping_fee</td>\n",
       "      <td>-0.026276</td>\n",
       "      <td>-0.000005</td>\n",
       "      <td>0.028155</td>\n",
       "      <td>0.016731</td>\n",
       "      <td>-0.013713</td>\n",
       "      <td>1.000000</td>\n",
       "    </tr>\n",
       "  </tbody>\n",
       "</table>\n",
       "</div>"
      ],
      "text/plain": [
       "                placement_id  truck_capacity  driver_id  driver_phone  \\\n",
       "placement_id        1.000000        0.035630   0.024868      0.050383   \n",
       "truck_capacity      0.035630        1.000000  -0.001574     -0.008766   \n",
       "driver_id           0.024868       -0.001574   1.000000      0.054953   \n",
       "driver_phone        0.050383       -0.008766   0.054953      1.000000   \n",
       "goods_weight       -0.015232       -0.004209   0.015543     -0.002645   \n",
       "shipping_fee       -0.026276       -0.000005   0.028155      0.016731   \n",
       "\n",
       "                goods_weight  shipping_fee  \n",
       "placement_id       -0.015232     -0.026276  \n",
       "truck_capacity     -0.004209     -0.000005  \n",
       "driver_id           0.015543      0.028155  \n",
       "driver_phone       -0.002645      0.016731  \n",
       "goods_weight        1.000000     -0.013713  \n",
       "shipping_fee       -0.013713      1.000000  "
      ]
     },
     "execution_count": 29,
     "metadata": {},
     "output_type": "execute_result"
    }
   ],
   "source": [
    "placement.corr()"
   ]
  },
  {
   "cell_type": "markdown",
   "metadata": {},
   "source": [
    "#### *From the above correlation table, it is clearly understood that no feature has any positive or negative correlation with the other.\n",
    "#### Also, there are no any other hygiene problems with the data such as duplicates, null values, outliers, etc.,*"
   ]
  },
  {
   "cell_type": "markdown",
   "metadata": {},
   "source": [
    "### Q6. What other insights can you get out of these two tables? Propose the analysis and run one of them that you find most interesting."
   ]
  },
  {
   "cell_type": "code",
   "execution_count": 30,
   "metadata": {},
   "outputs": [
    {
     "data": {
      "text/html": [
       "<div>\n",
       "<style scoped>\n",
       "    .dataframe tbody tr th:only-of-type {\n",
       "        vertical-align: middle;\n",
       "    }\n",
       "\n",
       "    .dataframe tbody tr th {\n",
       "        vertical-align: top;\n",
       "    }\n",
       "\n",
       "    .dataframe thead th {\n",
       "        text-align: right;\n",
       "    }\n",
       "</style>\n",
       "<table border=\"1\" class=\"dataframe\">\n",
       "  <thead>\n",
       "    <tr style=\"text-align: right;\">\n",
       "      <th></th>\n",
       "      <th>placement_id</th>\n",
       "      <th>truck_plate</th>\n",
       "      <th>truck_capacity</th>\n",
       "      <th>driver_id</th>\n",
       "      <th>driver_phone</th>\n",
       "      <th>goods_weight</th>\n",
       "      <th>shipping_fee</th>\n",
       "      <th>status_ts</th>\n",
       "      <th>status</th>\n",
       "      <th>revenue</th>\n",
       "      <th>profit</th>\n",
       "      <th>margin</th>\n",
       "    </tr>\n",
       "    <tr>\n",
       "      <th>placement_ts</th>\n",
       "      <th></th>\n",
       "      <th></th>\n",
       "      <th></th>\n",
       "      <th></th>\n",
       "      <th></th>\n",
       "      <th></th>\n",
       "      <th></th>\n",
       "      <th></th>\n",
       "      <th></th>\n",
       "      <th></th>\n",
       "      <th></th>\n",
       "      <th></th>\n",
       "    </tr>\n",
       "  </thead>\n",
       "  <tbody>\n",
       "    <tr>\n",
       "      <td>2018-01-01 17:55:15+05:30</td>\n",
       "      <td>0</td>\n",
       "      <td>TNE3ZJQPRH</td>\n",
       "      <td>10</td>\n",
       "      <td>257</td>\n",
       "      <td>5701819972</td>\n",
       "      <td>27</td>\n",
       "      <td>40411</td>\n",
       "      <td>2020-02-04 14:40:15+05:30</td>\n",
       "      <td>delivered</td>\n",
       "      <td>67281.0</td>\n",
       "      <td>26870.0</td>\n",
       "      <td>0.399370</td>\n",
       "    </tr>\n",
       "    <tr>\n",
       "      <td>2018-01-02 02:48:15+05:30</td>\n",
       "      <td>1</td>\n",
       "      <td>APBOXM6CYR</td>\n",
       "      <td>21</td>\n",
       "      <td>243</td>\n",
       "      <td>8160025431</td>\n",
       "      <td>20</td>\n",
       "      <td>81731</td>\n",
       "      <td>2020-08-29 17:56:15+05:30</td>\n",
       "      <td>delivered</td>\n",
       "      <td>126349.0</td>\n",
       "      <td>44618.0</td>\n",
       "      <td>0.353133</td>\n",
       "    </tr>\n",
       "    <tr>\n",
       "      <td>2018-01-02 08:07:15+05:30</td>\n",
       "      <td>2</td>\n",
       "      <td>JHFO87NR8U</td>\n",
       "      <td>21</td>\n",
       "      <td>105</td>\n",
       "      <td>5737886603</td>\n",
       "      <td>17</td>\n",
       "      <td>13562</td>\n",
       "      <td>2021-04-18 08:22:15+05:30</td>\n",
       "      <td>delivered</td>\n",
       "      <td>69805.0</td>\n",
       "      <td>56243.0</td>\n",
       "      <td>0.805716</td>\n",
       "    </tr>\n",
       "    <tr>\n",
       "      <td>2018-01-02 22:33:15+05:30</td>\n",
       "      <td>3</td>\n",
       "      <td>TN0MUM266Q</td>\n",
       "      <td>25</td>\n",
       "      <td>208</td>\n",
       "      <td>6527430949</td>\n",
       "      <td>18</td>\n",
       "      <td>90496</td>\n",
       "      <td>2021-02-12 20:04:15+05:30</td>\n",
       "      <td>delivered</td>\n",
       "      <td>145395.0</td>\n",
       "      <td>54899.0</td>\n",
       "      <td>0.377585</td>\n",
       "    </tr>\n",
       "    <tr>\n",
       "      <td>2018-01-03 07:51:15+05:30</td>\n",
       "      <td>4</td>\n",
       "      <td>JH92ZSVZ9I</td>\n",
       "      <td>17</td>\n",
       "      <td>25</td>\n",
       "      <td>5182354054</td>\n",
       "      <td>30</td>\n",
       "      <td>74317</td>\n",
       "      <td>2021-04-14 23:25:15+05:30</td>\n",
       "      <td>delivered</td>\n",
       "      <td>110139.0</td>\n",
       "      <td>35822.0</td>\n",
       "      <td>0.325244</td>\n",
       "    </tr>\n",
       "  </tbody>\n",
       "</table>\n",
       "</div>"
      ],
      "text/plain": [
       "                           placement_id truck_plate  truck_capacity  \\\n",
       "placement_ts                                                          \n",
       "2018-01-01 17:55:15+05:30             0  TNE3ZJQPRH              10   \n",
       "2018-01-02 02:48:15+05:30             1  APBOXM6CYR              21   \n",
       "2018-01-02 08:07:15+05:30             2  JHFO87NR8U              21   \n",
       "2018-01-02 22:33:15+05:30             3  TN0MUM266Q              25   \n",
       "2018-01-03 07:51:15+05:30             4  JH92ZSVZ9I              17   \n",
       "\n",
       "                           driver_id  driver_phone  goods_weight  \\\n",
       "placement_ts                                                       \n",
       "2018-01-01 17:55:15+05:30        257    5701819972            27   \n",
       "2018-01-02 02:48:15+05:30        243    8160025431            20   \n",
       "2018-01-02 08:07:15+05:30        105    5737886603            17   \n",
       "2018-01-02 22:33:15+05:30        208    6527430949            18   \n",
       "2018-01-03 07:51:15+05:30         25    5182354054            30   \n",
       "\n",
       "                           shipping_fee                  status_ts     status  \\\n",
       "placement_ts                                                                    \n",
       "2018-01-01 17:55:15+05:30         40411  2020-02-04 14:40:15+05:30  delivered   \n",
       "2018-01-02 02:48:15+05:30         81731  2020-08-29 17:56:15+05:30  delivered   \n",
       "2018-01-02 08:07:15+05:30         13562  2021-04-18 08:22:15+05:30  delivered   \n",
       "2018-01-02 22:33:15+05:30         90496  2021-02-12 20:04:15+05:30  delivered   \n",
       "2018-01-03 07:51:15+05:30         74317  2021-04-14 23:25:15+05:30  delivered   \n",
       "\n",
       "                            revenue   profit    margin  \n",
       "placement_ts                                            \n",
       "2018-01-01 17:55:15+05:30   67281.0  26870.0  0.399370  \n",
       "2018-01-02 02:48:15+05:30  126349.0  44618.0  0.353133  \n",
       "2018-01-02 08:07:15+05:30   69805.0  56243.0  0.805716  \n",
       "2018-01-02 22:33:15+05:30  145395.0  54899.0  0.377585  \n",
       "2018-01-03 07:51:15+05:30  110139.0  35822.0  0.325244  "
      ]
     },
     "execution_count": 30,
     "metadata": {},
     "output_type": "execute_result"
    }
   ],
   "source": [
    "pl_status.head()"
   ]
  },
  {
   "cell_type": "code",
   "execution_count": 31,
   "metadata": {},
   "outputs": [
    {
     "data": {
      "text/html": [
       "<div>\n",
       "<style scoped>\n",
       "    .dataframe tbody tr th:only-of-type {\n",
       "        vertical-align: middle;\n",
       "    }\n",
       "\n",
       "    .dataframe tbody tr th {\n",
       "        vertical-align: top;\n",
       "    }\n",
       "\n",
       "    .dataframe thead th {\n",
       "        text-align: right;\n",
       "    }\n",
       "</style>\n",
       "<table border=\"1\" class=\"dataframe\">\n",
       "  <thead>\n",
       "    <tr style=\"text-align: right;\">\n",
       "      <th></th>\n",
       "      <th>placement_id</th>\n",
       "      <th>truck_capacity</th>\n",
       "      <th>driver_id</th>\n",
       "      <th>driver_phone</th>\n",
       "      <th>goods_weight</th>\n",
       "      <th>shipping_fee</th>\n",
       "      <th>revenue</th>\n",
       "      <th>profit</th>\n",
       "      <th>margin</th>\n",
       "    </tr>\n",
       "  </thead>\n",
       "  <tbody>\n",
       "    <tr>\n",
       "      <td>count</td>\n",
       "      <td>2990.000000</td>\n",
       "      <td>2990.000000</td>\n",
       "      <td>2990.000000</td>\n",
       "      <td>2.990000e+03</td>\n",
       "      <td>2990.000000</td>\n",
       "      <td>2990.000000</td>\n",
       "      <td>2990.000000</td>\n",
       "      <td>2990.000000</td>\n",
       "      <td>2990.000000</td>\n",
       "    </tr>\n",
       "    <tr>\n",
       "      <td>mean</td>\n",
       "      <td>1498.978261</td>\n",
       "      <td>21.145819</td>\n",
       "      <td>249.985953</td>\n",
       "      <td>7.465531e+09</td>\n",
       "      <td>21.298328</td>\n",
       "      <td>56063.689298</td>\n",
       "      <td>99845.244147</td>\n",
       "      <td>43781.554849</td>\n",
       "      <td>0.384375</td>\n",
       "    </tr>\n",
       "    <tr>\n",
       "      <td>std</td>\n",
       "      <td>866.759208</td>\n",
       "      <td>6.952028</td>\n",
       "      <td>146.701767</td>\n",
       "      <td>1.512125e+09</td>\n",
       "      <td>8.026176</td>\n",
       "      <td>25767.936234</td>\n",
       "      <td>28965.041459</td>\n",
       "      <td>38566.484013</td>\n",
       "      <td>0.356150</td>\n",
       "    </tr>\n",
       "    <tr>\n",
       "      <td>min</td>\n",
       "      <td>0.000000</td>\n",
       "      <td>10.000000</td>\n",
       "      <td>0.000000</td>\n",
       "      <td>5.012924e+09</td>\n",
       "      <td>8.000000</td>\n",
       "      <td>10059.000000</td>\n",
       "      <td>50014.000000</td>\n",
       "      <td>-47621.000000</td>\n",
       "      <td>-0.928836</td>\n",
       "    </tr>\n",
       "    <tr>\n",
       "      <td>25%</td>\n",
       "      <td>747.250000</td>\n",
       "      <td>17.000000</td>\n",
       "      <td>122.000000</td>\n",
       "      <td>6.158574e+09</td>\n",
       "      <td>14.000000</td>\n",
       "      <td>34035.250000</td>\n",
       "      <td>74691.000000</td>\n",
       "      <td>16072.750000</td>\n",
       "      <td>0.188409</td>\n",
       "    </tr>\n",
       "    <tr>\n",
       "      <td>50%</td>\n",
       "      <td>1499.500000</td>\n",
       "      <td>21.000000</td>\n",
       "      <td>254.000000</td>\n",
       "      <td>7.402781e+09</td>\n",
       "      <td>21.000000</td>\n",
       "      <td>56506.000000</td>\n",
       "      <td>99000.000000</td>\n",
       "      <td>43354.500000</td>\n",
       "      <td>0.436358</td>\n",
       "    </tr>\n",
       "    <tr>\n",
       "      <td>75%</td>\n",
       "      <td>2248.750000</td>\n",
       "      <td>25.000000</td>\n",
       "      <td>377.000000</td>\n",
       "      <td>8.864159e+09</td>\n",
       "      <td>28.000000</td>\n",
       "      <td>78119.750000</td>\n",
       "      <td>125629.500000</td>\n",
       "      <td>71554.250000</td>\n",
       "      <td>0.657426</td>\n",
       "    </tr>\n",
       "    <tr>\n",
       "      <td>max</td>\n",
       "      <td>2999.000000</td>\n",
       "      <td>30.000000</td>\n",
       "      <td>499.000000</td>\n",
       "      <td>9.995613e+09</td>\n",
       "      <td>35.000000</td>\n",
       "      <td>99979.000000</td>\n",
       "      <td>149992.000000</td>\n",
       "      <td>138697.000000</td>\n",
       "      <td>0.932379</td>\n",
       "    </tr>\n",
       "  </tbody>\n",
       "</table>\n",
       "</div>"
      ],
      "text/plain": [
       "       placement_id  truck_capacity    driver_id  driver_phone  goods_weight  \\\n",
       "count   2990.000000     2990.000000  2990.000000  2.990000e+03   2990.000000   \n",
       "mean    1498.978261       21.145819   249.985953  7.465531e+09     21.298328   \n",
       "std      866.759208        6.952028   146.701767  1.512125e+09      8.026176   \n",
       "min        0.000000       10.000000     0.000000  5.012924e+09      8.000000   \n",
       "25%      747.250000       17.000000   122.000000  6.158574e+09     14.000000   \n",
       "50%     1499.500000       21.000000   254.000000  7.402781e+09     21.000000   \n",
       "75%     2248.750000       25.000000   377.000000  8.864159e+09     28.000000   \n",
       "max     2999.000000       30.000000   499.000000  9.995613e+09     35.000000   \n",
       "\n",
       "       shipping_fee        revenue         profit       margin  \n",
       "count   2990.000000    2990.000000    2990.000000  2990.000000  \n",
       "mean   56063.689298   99845.244147   43781.554849     0.384375  \n",
       "std    25767.936234   28965.041459   38566.484013     0.356150  \n",
       "min    10059.000000   50014.000000  -47621.000000    -0.928836  \n",
       "25%    34035.250000   74691.000000   16072.750000     0.188409  \n",
       "50%    56506.000000   99000.000000   43354.500000     0.436358  \n",
       "75%    78119.750000  125629.500000   71554.250000     0.657426  \n",
       "max    99979.000000  149992.000000  138697.000000     0.932379  "
      ]
     },
     "execution_count": 31,
     "metadata": {},
     "output_type": "execute_result"
    }
   ],
   "source": [
    "pl_status.describe()"
   ]
  },
  {
   "cell_type": "markdown",
   "metadata": {},
   "source": [
    "#### *From the pl_status data, it is visible that at some placements, the goods weight was higher than the truck capacity and it simply means that the truck makes more than one trip to complete a placement if necessary.\n",
    "#### From the above table, it is understood that there have been losses due to some placements as the minimum profit is negative.*"
   ]
  }
 ],
 "metadata": {
  "kernelspec": {
   "display_name": "Python 3",
   "language": "python",
   "name": "python3"
  },
  "language_info": {
   "codemirror_mode": {
    "name": "ipython",
    "version": 3
   },
   "file_extension": ".py",
   "mimetype": "text/x-python",
   "name": "python",
   "nbconvert_exporter": "python",
   "pygments_lexer": "ipython3",
   "version": "3.7.4"
  }
 },
 "nbformat": 4,
 "nbformat_minor": 2
}
